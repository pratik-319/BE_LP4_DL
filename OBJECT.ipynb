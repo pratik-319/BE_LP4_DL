{
  "nbformat": 4,
  "nbformat_minor": 0,
  "metadata": {
    "colab": {
      "provenance": []
    },
    "kernelspec": {
      "name": "python3",
      "display_name": "Python 3"
    },
    "language_info": {
      "name": "python"
    }
  },
  "cells": [
    {
      "cell_type": "code",
      "execution_count": null,
      "metadata": {
        "id": "z6q_8ACDpsZz"
      },
      "outputs": [],
      "source": [
        "import numpy as np\n",
        "import tensorflow as tf\n",
        "from tensorflow.keras.preprocessing.image import ImageDataGenerator\n",
        "from tensorflow.keras.models import Sequential\n",
        "from tensorflow.keras.layers import Dense , Flatten,Dropout\n",
        "from tensorflow.keras.optimizers import Adam\n",
        "from tensorflow.keras.applications import VGG16"
      ]
    },
    {
      "cell_type": "code",
      "source": [
        "from google.colab import drive\n",
        "drive.mount('/content/drive')"
      ],
      "metadata": {
        "colab": {
          "base_uri": "https://localhost:8080/"
        },
        "id": "gsdTwG0NxPhu",
        "outputId": "a96d7ad3-5f04-49a0-84c4-06445a374024"
      },
      "execution_count": 7,
      "outputs": [
        {
          "output_type": "stream",
          "name": "stdout",
          "text": [
            "Drive already mounted at /content/drive; to attempt to forcibly remount, call drive.mount(\"/content/drive\", force_remount=True).\n"
          ]
        }
      ]
    },
    {
      "cell_type": "code",
      "source": [
        "weights_path = \"vgg16_weights_tf_dim_ordering_tf_kernels_notop.h5\""
      ],
      "metadata": {
        "id": "Uti4NgCTr0vY"
      },
      "execution_count": null,
      "outputs": []
    },
    {
      "cell_type": "code",
      "source": [
        "base_model = VGG16(weights=weights_path,include_top=False,input_shape=(64,64,3))"
      ],
      "metadata": {
        "id": "EElPJp3TtOXK"
      },
      "execution_count": null,
      "outputs": []
    },
    {
      "cell_type": "code",
      "source": [
        "dataset_dir = \"/content/drive/MyDrive/caltech-101-img\"\n"
      ],
      "metadata": {
        "id": "Yj_ArUSCtSG-"
      },
      "execution_count": 8,
      "outputs": []
    },
    {
      "cell_type": "code",
      "source": [
        "dataset_datagen = ImageDataGenerator(\n",
        "    rescale = 1.0/255\n",
        ")"
      ],
      "metadata": {
        "id": "UAsib2DJ6tlS"
      },
      "execution_count": 9,
      "outputs": []
    },
    {
      "cell_type": "code",
      "source": [
        "dataset_generator = dataset_datagen.flow_from_directory(\n",
        "    dataset_dir,\n",
        "    target_size = (64,64),\n",
        "    batch_size=2000,\n",
        ")"
      ],
      "metadata": {
        "colab": {
          "base_uri": "https://localhost:8080/"
        },
        "id": "i2-5Kczs6wW0",
        "outputId": "a3701917-de03-4548-d044-217a91e2e57f"
      },
      "execution_count": 10,
      "outputs": [
        {
          "output_type": "stream",
          "name": "stdout",
          "text": [
            "Found 884 images belonging to 102 classes.\n"
          ]
        }
      ]
    },
    {
      "cell_type": "code",
      "source": [
        "xtrain,ytrain = dataset_generator[0]\n",
        "xtest,ytest = dataset_generator[0]"
      ],
      "metadata": {
        "id": "Kq4LAVQ16zLf"
      },
      "execution_count": 12,
      "outputs": []
    },
    {
      "cell_type": "code",
      "source": [
        "print(len(xtrain))\n",
        "\n"
      ],
      "metadata": {
        "colab": {
          "base_uri": "https://localhost:8080/"
        },
        "id": "uO13VYxq63UO",
        "outputId": "5ec8d6b4-b8ce-42a9-81a1-31967b825440"
      },
      "execution_count": 13,
      "outputs": [
        {
          "output_type": "stream",
          "name": "stdout",
          "text": [
            "884\n"
          ]
        }
      ]
    },
    {
      "cell_type": "code",
      "source": [
        "for layer in base_model.layers:\n",
        "    layer.trainable = False"
      ],
      "metadata": {
        "id": "BmFaXJ398EUO"
      },
      "execution_count": 14,
      "outputs": []
    },
    {
      "cell_type": "code",
      "source": [
        "x = Flatten()(base_model.output)\n",
        "x = Dense(64,activation='relu')(x)\n",
        "x = Dense(102,activation='softmax')(x)"
      ],
      "metadata": {
        "id": "gqj2vxyL8Ov9"
      },
      "execution_count": 15,
      "outputs": []
    },
    {
      "cell_type": "code",
      "source": [
        "from tensorflow.keras.models import Model\n",
        "model = Model(inputs=base_model.input,outputs=x)"
      ],
      "metadata": {
        "id": "iD9S1Ln78RKc"
      },
      "execution_count": 17,
      "outputs": []
    },
    {
      "cell_type": "code",
      "source": [
        "model.compile(optimizer = 'adam',loss='categorical_crossentropy',metrics=['accuracy'])"
      ],
      "metadata": {
        "id": "O_mlEn018TFe"
      },
      "execution_count": 18,
      "outputs": []
    },
    {
      "cell_type": "code",
      "source": [
        "model.fit(xtrain,ytrain,batch_size=64,epochs=1,validation_data=(xtest,ytest))\n"
      ],
      "metadata": {
        "colab": {
          "base_uri": "https://localhost:8080/"
        },
        "id": "1yuAS5Oi8duL",
        "outputId": "532f7cf9-8c78-463e-d4fc-fa14bc8899b4"
      },
      "execution_count": 19,
      "outputs": [
        {
          "output_type": "stream",
          "name": "stdout",
          "text": [
            "\u001b[1m14/14\u001b[0m \u001b[32m━━━━━━━━━━━━━━━━━━━━\u001b[0m\u001b[37m\u001b[0m \u001b[1m87s\u001b[0m 6s/step - accuracy: 0.1690 - loss: 3.9683 - val_accuracy: 0.5916 - val_loss: 1.7998\n"
          ]
        },
        {
          "output_type": "execute_result",
          "data": {
            "text/plain": [
              "<keras.src.callbacks.history.History at 0x7af05840f100>"
            ]
          },
          "metadata": {},
          "execution_count": 19
        }
      ]
    },
    {
      "cell_type": "code",
      "source": [
        "base_model = VGG16(weights=weights_path, include_top=False, input_shape=(64, 64, 3))\n",
        "\n",
        "# freeze all layers first\n",
        "for layer in base_model.layers:\n",
        "   layer.trainable = False\n",
        "\n",
        "# unfreeze last 4 layers of base model\n",
        "for layer in base_model.layers[len(base_model.layers) - 4:]:\n",
        "   layer.trainable = True\n",
        "\n",
        "# fine-tuning hyper parameters\n",
        "x = Flatten()(base_model.output)\n",
        "x = Dense(512, activation='relu')(x)\n",
        "x = tf.keras.layers.Dropout(0.3)(x)\n",
        "x = Dense(102, activation='softmax')(x)\n",
        "\n",
        "# Create the model\n",
        "model = Model(inputs=base_model.input, outputs=x)\n",
        "# Compile the model\n",
        "model.compile(optimizer='adam', loss='categorical_crossentropy', metrics=['accuracy'])\n",
        "# training fine tuned model\n",
        "model.fit(xtrain, ytrain, batch_size=64, epochs=1, validation_data=(xtest, ytest))"
      ],
      "metadata": {
        "colab": {
          "base_uri": "https://localhost:8080/"
        },
        "id": "KC692MC68hAm",
        "outputId": "541abfcd-418a-482d-f732-be56222646a1"
      },
      "execution_count": 20,
      "outputs": [
        {
          "output_type": "stream",
          "name": "stdout",
          "text": [
            "\u001b[1m14/14\u001b[0m \u001b[32m━━━━━━━━━━━━━━━━━━━━\u001b[0m\u001b[37m\u001b[0m \u001b[1m96s\u001b[0m 7s/step - accuracy: 0.1815 - loss: 5.4032 - val_accuracy: 0.4672 - val_loss: 1.6535\n"
          ]
        },
        {
          "output_type": "execute_result",
          "data": {
            "text/plain": [
              "<keras.src.callbacks.history.History at 0x7af0477b6560>"
            ]
          },
          "metadata": {},
          "execution_count": 20
        }
      ]
    },
    {
      "cell_type": "code",
      "source": [
        "import matplotlib.pyplot as plt\n",
        "ypred = model.predict(xtest)\n"
      ],
      "metadata": {
        "colab": {
          "base_uri": "https://localhost:8080/"
        },
        "id": "lHg73ATZ83oC",
        "outputId": "a9cb1c2c-4682-4d15-eb38-d52e30709886"
      },
      "execution_count": 21,
      "outputs": [
        {
          "output_type": "stream",
          "name": "stdout",
          "text": [
            "\u001b[1m28/28\u001b[0m \u001b[32m━━━━━━━━━━━━━━━━━━━━\u001b[0m\u001b[37m\u001b[0m \u001b[1m41s\u001b[0m 1s/step\n"
          ]
        }
      ]
    },
    {
      "cell_type": "code",
      "source": [
        "labels = list(dataset_generator.class_indices.keys())\n"
      ],
      "metadata": {
        "id": "V5hvAT8D9QPl"
      },
      "execution_count": 22,
      "outputs": []
    },
    {
      "cell_type": "code",
      "source": [
        "plt.imshow(xtest[787])\n",
        "print(\"predicted\",labels[np.argmax(ypred[787])])\n",
        "print(\"actual\",labels[np.argmax(ytest[787])])"
      ],
      "metadata": {
        "colab": {
          "base_uri": "https://localhost:8080/",
          "height": 468
        },
        "id": "UUbgzAKs9Umg",
        "outputId": "b80c5730-5819-4398-db3c-dde65500bbd9"
      },
      "execution_count": 24,
      "outputs": [
        {
          "output_type": "stream",
          "name": "stdout",
          "text": [
            "predicted watch\n",
            "actual wheelchair\n"
          ]
        },
        {
          "output_type": "display_data",
          "data": {
            "text/plain": [
              "<Figure size 640x480 with 1 Axes>"
            ],
            "image/png": "[encoded data removed]"
          },
          "metadata": {}
        }
      ]
    },
    {
      "cell_type": "code",
      "source": [],
      "metadata": {
        "id": "fJHrzqXq9b38"
      },
      "execution_count": null,
      "outputs": []
    },
    {
      "cell_type": "code",
      "source": [
        "dataset_datgen = ImageDataGenerator(\n",
        "    rescale = 1.0/255\n",
        ")\n",
        "batch_size = 2000\n",
        "\n",
        "dataset_generator = dataset_datagen.flow_from_directory(\n",
        "    dataset_dir,\n",
        "    target_size = (64,64),\n",
        "    batch_size = batch_size,\n",
        "    class_mode = 'categorical'\n",
        ")"
      ],
      "metadata": {
        "colab": {
          "base_uri": "https://localhost:8080/"
        },
        "id": "POVD5mO0-PcX",
        "outputId": "d3b53279-5de9-4083-d6e1-71dc16de77f0"
      },
      "execution_count": 26,
      "outputs": [
        {
          "output_type": "stream",
          "name": "stdout",
          "text": [
            "Found 884 images belonging to 102 classes.\n"
          ]
        }
      ]
    },
    {
      "cell_type": "code",
      "source": [
        "x_train,y_train = dataset_generator[0]"
      ],
      "metadata": {
        "id": "PiYZCz1s-v2X"
      },
      "execution_count": 29,
      "outputs": []
    },
    {
      "cell_type": "code",
      "source": [
        "x_test,y_test = dataset_generator[0]"
      ],
      "metadata": {
        "id": "iRMFD8MJ-3Aj"
      },
      "execution_count": 32,
      "outputs": []
    },
    {
      "cell_type": "code",
      "source": [
        "print(len(x_train))"
      ],
      "metadata": {
        "colab": {
          "base_uri": "https://localhost:8080/"
        },
        "id": "Aw2Y5Tjf_Imp",
        "outputId": "0c0802bc-d4ce-45c5-a6bd-4580104d190b"
      },
      "execution_count": 33,
      "outputs": [
        {
          "output_type": "stream",
          "name": "stdout",
          "text": [
            "884\n"
          ]
        }
      ]
    },
    {
      "cell_type": "code",
      "source": [
        "print(len(x_test))"
      ],
      "metadata": {
        "colab": {
          "base_uri": "https://localhost:8080/"
        },
        "id": "ENZUc09n_hwd",
        "outputId": "003943c1-fcbb-4bc5-d84d-2d55efd0af33"
      },
      "execution_count": 34,
      "outputs": [
        {
          "output_type": "stream",
          "name": "stdout",
          "text": [
            "884\n"
          ]
        }
      ]
    },
    {
      "cell_type": "code",
      "source": [
        "from tensorflow.keras.models import Model\n",
        "from tensorflow.keras.layers import Dense , Flatten , Dropout\n",
        "from tensorflow.keras.optimizers import Adam\n",
        "from tensorflow.keras.applications import VGG16"
      ],
      "metadata": {
        "id": "J4_rZxuI_jsK"
      },
      "execution_count": 35,
      "outputs": []
    },
    {
      "cell_type": "code",
      "source": [
        "base_model = VGG16(weights = weights_path , include_top = False , input_shape=(64,64,3))"
      ],
      "metadata": {
        "id": "OQhath53AHin"
      },
      "execution_count": 36,
      "outputs": []
    },
    {
      "cell_type": "code",
      "source": [
        "for layer in base_model.layers:\n",
        "  layer.trainable = False"
      ],
      "metadata": {
        "id": "0AyRvprKA14z"
      },
      "execution_count": 39,
      "outputs": []
    },
    {
      "cell_type": "code",
      "source": [
        "x = Flatten()(base_model.output)\n",
        "x = Dense(64 , activation = 'relu')(x)\n",
        "predictions = Dense(102, activation = 'softmax')(x)\n",
        "\n",
        "#crerate model\n",
        "model = Model(inputs = base_model.input , outputs = predictions)\n",
        "\n",
        "model.compile(optimizer = 'adam' , loss = 'categorical_crossentropy' , metrics = ['accuracy'])\n",
        "\n",
        "model.fit(x_train , y_train , epochs = 10 , validation_data = (x_test , y_test))"
      ],
      "metadata": {
        "colab": {
          "base_uri": "https://localhost:8080/"
        },
        "id": "yQ1VmBKXA7Wo",
        "outputId": "c40244fb-2909-41e1-b282-fc384da98998"
      },
      "execution_count": 42,
      "outputs": [
        {
          "output_type": "stream",
          "name": "stdout",
          "text": [
            "Epoch 1/10\n",
            "\u001b[1m28/28\u001b[0m \u001b[32m━━━━━━━━━━━━━━━━━━━━\u001b[0m\u001b[37m\u001b[0m \u001b[1m84s\u001b[0m 3s/step - accuracy: 0.2465 - loss: 3.5063 - val_accuracy: 0.6448 - val_loss: 1.2992\n",
            "Epoch 2/10\n",
            "\u001b[1m28/28\u001b[0m \u001b[32m━━━━━━━━━━━━━━━━━━━━\u001b[0m\u001b[37m\u001b[0m \u001b[1m141s\u001b[0m 3s/step - accuracy: 0.7473 - loss: 1.0145 - val_accuracy: 0.8394 - val_loss: 0.6521\n",
            "Epoch 3/10\n",
            "\u001b[1m28/28\u001b[0m \u001b[32m━━━━━━━━━━━━━━━━━━━━\u001b[0m\u001b[37m\u001b[0m \u001b[1m78s\u001b[0m 3s/step - accuracy: 0.8751 - loss: 0.5919 - val_accuracy: 0.8869 - val_loss: 0.4765\n",
            "Epoch 4/10\n",
            "\u001b[1m28/28\u001b[0m \u001b[32m━━━━━━━━━━━━━━━━━━━━\u001b[0m\u001b[37m\u001b[0m \u001b[1m82s\u001b[0m 3s/step - accuracy: 0.8984 - loss: 0.4405 - val_accuracy: 0.9208 - val_loss: 0.3621\n",
            "Epoch 5/10\n",
            "\u001b[1m28/28\u001b[0m \u001b[32m━━━━━━━━━━━━━━━━━━━━\u001b[0m\u001b[37m\u001b[0m \u001b[1m82s\u001b[0m 3s/step - accuracy: 0.9354 - loss: 0.3495 - val_accuracy: 0.9412 - val_loss: 0.2914\n",
            "Epoch 6/10\n",
            "\u001b[1m28/28\u001b[0m \u001b[32m━━━━━━━━━━━━━━━━━━━━\u001b[0m\u001b[37m\u001b[0m \u001b[1m79s\u001b[0m 3s/step - accuracy: 0.9524 - loss: 0.2926 - val_accuracy: 0.9457 - val_loss: 0.2428\n",
            "Epoch 7/10\n",
            "\u001b[1m28/28\u001b[0m \u001b[32m━━━━━━━━━━━━━━━━━━━━\u001b[0m\u001b[37m\u001b[0m \u001b[1m133s\u001b[0m 5s/step - accuracy: 0.9509 - loss: 0.2175 - val_accuracy: 0.9615 - val_loss: 0.1964\n",
            "Epoch 8/10\n",
            "\u001b[1m28/28\u001b[0m \u001b[32m━━━━━━━━━━━━━━━━━━━━\u001b[0m\u001b[37m\u001b[0m \u001b[1m142s\u001b[0m 5s/step - accuracy: 0.9666 - loss: 0.1827 - val_accuracy: 0.9661 - val_loss: 0.1722\n",
            "Epoch 9/10\n",
            "\u001b[1m28/28\u001b[0m \u001b[32m━━━━━━━━━━━━━━━━━━━━\u001b[0m\u001b[37m\u001b[0m \u001b[1m103s\u001b[0m 3s/step - accuracy: 0.9779 - loss: 0.1653 - val_accuracy: 0.9808 - val_loss: 0.1364\n",
            "Epoch 10/10\n",
            "\u001b[1m28/28\u001b[0m \u001b[32m━━━━━━━━━━━━━━━━━━━━\u001b[0m\u001b[37m\u001b[0m \u001b[1m129s\u001b[0m 3s/step - accuracy: 0.9871 - loss: 0.1321 - val_accuracy: 0.9830 - val_loss: 0.1174\n"
          ]
        },
        {
          "output_type": "execute_result",
          "data": {
            "text/plain": [
              "<keras.src.callbacks.history.History at 0x7af037288b80>"
            ]
          },
          "metadata": {},
          "execution_count": 42
        }
      ]
    },
    {
      "cell_type": "code",
      "source": [
        "base_model = VGG16(weights = weights_path , include_top = False , input_shape = (64,64,3))\n",
        "for layer in base_model.layers:\n",
        "  layer.trainable = False\n",
        "\n",
        "#unfrezze last 4 layers\n",
        "for layer in base_model.layers[len(base_model.layers)-2 :]:\n",
        "  layer.trainable = True\n",
        "\n",
        "x = Flatten()(base_model.output)\n",
        "x = Dense(512 , activation = 'relu')(x)\n",
        "x = tf.keras.layers.Dropout(0.3)(x)\n",
        "\n",
        "predictions = Dense(102 , activation = 'softmax')(x)\n",
        "\n",
        "model = Model(inputs = base_model.input , outputs = predictions)\n",
        "model.compile(optimizer = Adam(learning_rate = 0.01)  , loss = 'categorical_crossentropy' , metrics = ['accuracy'])\n",
        "model.fit(x_train , y_train , batch_size = 64 , epochs = 1 , validation_data = (x_test , y_test))"
      ],
      "metadata": {
        "colab": {
          "base_uri": "https://localhost:8080/"
        },
        "id": "tQmPE2tPC04C",
        "outputId": "4efc3623-e3d3-4603-ff0f-309fd54c513f"
      },
      "execution_count": 46,
      "outputs": [
        {
          "output_type": "stream",
          "name": "stdout",
          "text": [
            "\u001b[1m14/14\u001b[0m \u001b[32m━━━━━━━━━━━━━━━━━━━━\u001b[0m\u001b[37m\u001b[0m \u001b[1m89s\u001b[0m 6s/step - accuracy: 0.2716 - loss: 44.0856 - val_accuracy: 0.7896 - val_loss: 0.7643\n"
          ]
        },
        {
          "output_type": "execute_result",
          "data": {
            "text/plain": [
              "<keras.src.callbacks.history.History at 0x7af04777b130>"
            ]
          },
          "metadata": {},
          "execution_count": 46
        }
      ]
    },
    {
      "cell_type": "code",
      "source": [
        "import matplotlib.pyplot as plt\n",
        "predicted_value = model.predict(x_test)"
      ],
      "metadata": {
        "colab": {
          "base_uri": "https://localhost:8080/"
        },
        "id": "QzyiremtG8xV",
        "outputId": "55f0a629-5d7c-4bff-9543-416b2f303fe4"
      },
      "execution_count": 47,
      "outputs": [
        {
          "output_type": "stream",
          "name": "stdout",
          "text": [
            "\u001b[1m28/28\u001b[0m \u001b[32m━━━━━━━━━━━━━━━━━━━━\u001b[0m\u001b[37m\u001b[0m \u001b[1m41s\u001b[0m 1s/step\n"
          ]
        }
      ]
    },
    {
      "cell_type": "code",
      "source": [
        "labels = list(dataset_generator.class_indices.keys())"
      ],
      "metadata": {
        "id": "TcQmBV5_HqgI"
      },
      "execution_count": 50,
      "outputs": []
    },
    {
      "cell_type": "code",
      "source": [
        "n = 300\n",
        "plt.imshow(x_test[300])\n",
        "print(\"actical = \" , labels[(np.argmax(y_test[n]))])\n",
        "print(\"predicted = \" , labels[(np.argmax(predicted_value[n]))])"
      ],
      "metadata": {
        "colab": {
          "base_uri": "https://localhost:8080/",
          "height": 468
        },
        "id": "EU_bn6BjH9uf",
        "outputId": "bc3354b1-6d12-4298-b0b0-2b6260eb1931"
      },
      "execution_count": 55,
      "outputs": [
        {
          "output_type": "stream",
          "name": "stdout",
          "text": [
            "actical =  sunflower\n",
            "predicted =  sunflower\n"
          ]
        },
        {
          "output_type": "display_data",
          "data": {
            "text/plain": [
              "<Figure size 640x480 with 1 Axes>"
            ],
            "image/png": "[encoded data removed]"
          },
          "metadata": {}
        }
      ]
    },
    {
      "cell_type": "code",
      "source": [],
      "metadata": {
        "id": "tzjTy-6wIimC"
      },
      "execution_count": null,
      "outputs": []
    }
  ]
}