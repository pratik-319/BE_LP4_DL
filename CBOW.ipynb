{
  "nbformat": 4,
  "nbformat_minor": 0,
  "metadata": {
    "colab": {
      "provenance": []
    },
    "kernelspec": {
      "name": "python3",
      "display_name": "Python 3"
    },
    "language_info": {
      "name": "python"
    }
  },
  "cells": [
    {
      "cell_type": "code",
      "execution_count": 4,
      "metadata": {
        "id": "zuXefGmh8XZP"
      },
      "outputs": [],
      "source": [
        "import numpy as np\n",
        "from sklearn.model_selection import train_test_split\n",
        "import tensorflow as tf\n",
        "from tensorflow.keras.layers import Embedding , Dense , Lambda\n",
        "from tensorflow.keras.preprocessing.text import Tokenizer\n",
        "from tensorflow.keras.models import Sequential"
      ]
    },
    {
      "cell_type": "code",
      "source": [
        "with open(\"CBOW.txt\" , \"r\") as file:\n",
        "  text = file.read()"
      ],
      "metadata": {
        "id": "RCLOIQtx9U2Z"
      },
      "execution_count": 5,
      "outputs": []
    },
    {
      "cell_type": "code",
      "source": [
        "sentences = text.split('.')\n",
        "sentences = [s.lower() for s in sentences]\n",
        "sentences"
      ],
      "metadata": {
        "colab": {
          "base_uri": "https://localhost:8080/"
        },
        "id": "vIWtj_cS96q_",
        "outputId": "786b0cdb-6b93-436e-fa5f-7c19204fc6d1"
      },
      "execution_count": 6,
      "outputs": [
        {
          "output_type": "execute_result",
          "data": {
            "text/plain": [
              "['the speed of transmission is an important point of difference between the two viruses',\n",
              " ' influenza has a shorter median incubation period (the time from infection to appearance of symptoms) and a shorter serial interval (the time between successive cases) than covid-19 virus',\n",
              " ' the serial interval for covid-19 virus is estimated to be 5-6 days, while for influenza virus, the serial interval is 3 days',\n",
              " ' this means that influenza can spread faster than covid-19',\n",
              " ' \\n\\nfurther, transmission in the first 3-5 days of illness, or potentially pre-symptomatic transmission –transmission of the virus before the appearance of symptoms – is a major driver of transmission for influenza',\n",
              " ' in contrast, while we are learning that there are people who can shed covid-19 virus 24-48 hours prior to symptom onset, at present, this does not appear to be a major driver of transmission',\n",
              " ' \\n\\nthe reproductive number – the number of secondary infections generated from one infected individual – is understood to be between 2 and 2',\n",
              " '5 for covid-19 virus, higher than for influenza',\n",
              " ' however, estimates for both covid-19 and influenza viruses are very context and time-specific, making direct comparisons more difficult',\n",
              " '  ']"
            ]
          },
          "metadata": {},
          "execution_count": 6
        }
      ]
    },
    {
      "cell_type": "code",
      "source": [
        "#tokenizing the sentences\n",
        "tokenizer = Tokenizer()\n",
        "tokenizer.fit_on_texts(sentences)\n",
        "sequences = tokenizer.texts_to_sequences(sentences)\n",
        "print(sequences)"
      ],
      "metadata": {
        "colab": {
          "base_uri": "https://localhost:8080/"
        },
        "id": "jpiM54Dl-LHX",
        "outputId": "0b50eddb-85d1-411e-851a-d4453ca012e0"
      },
      "execution_count": 10,
      "outputs": [
        {
          "output_type": "stream",
          "name": "stdout",
          "text": [
            "[[1, 38, 2, 8, 9, 39, 40, 41, 2, 42, 13, 1, 43, 23], [3, 44, 11, 24, 45, 46, 47, 1, 14, 25, 48, 10, 26, 2, 27, 12, 11, 24, 15, 16, 1, 14, 13, 49, 50, 17, 4, 5, 6], [1, 15, 16, 7, 4, 5, 6, 9, 51, 10, 18, 19, 52, 20, 28, 7, 3, 6, 1, 15, 16, 9, 29, 20], [30, 53, 31, 3, 32, 54, 55, 17, 4, 5], [56, 8, 33, 1, 57, 29, 19, 20, 2, 58, 59, 60, 61, 62, 8, 63, 2, 1, 6, 64, 1, 26, 2, 27, 21, 9, 11, 34, 35, 2, 8, 7, 3], [33, 65, 28, 66, 22, 67, 31, 68, 22, 69, 70, 32, 71, 4, 5, 6, 72, 73, 74, 75, 10, 76, 77, 78, 79, 30, 80, 81, 82, 10, 18, 11, 34, 35, 2, 8], [1, 83, 36, 21, 1, 36, 2, 84, 85, 86, 25, 87, 88, 89, 21, 9, 90, 10, 18, 13, 37, 12, 37], [19, 7, 4, 5, 6, 91, 17, 7, 3], [92, 93, 7, 94, 4, 5, 12, 3, 23, 22, 95, 96, 12, 14, 97, 98, 99, 100, 101, 102], []]\n"
          ]
        }
      ]
    },
    {
      "cell_type": "code",
      "source": [
        "#make indexes\n",
        "index_to_word = tokenizer.index_word\n",
        "word_to_index = tokenizer.word_index\n",
        "print(index_to_word)"
      ],
      "metadata": {
        "colab": {
          "base_uri": "https://localhost:8080/"
        },
        "id": "X44GOzqh-QUs",
        "outputId": "115efea6-95af-4f2f-f2bc-3eae242149d9"
      },
      "execution_count": 13,
      "outputs": [
        {
          "output_type": "stream",
          "name": "stdout",
          "text": [
            "{1: 'the', 2: 'of', 3: 'influenza', 4: 'covid', 5: '19', 6: 'virus', 7: 'for', 8: 'transmission', 9: 'is', 10: 'to', 11: 'a', 12: 'and', 13: 'between', 14: 'time', 15: 'serial', 16: 'interval', 17: 'than', 18: 'be', 19: '5', 20: 'days', 21: '–', 22: 'are', 23: 'viruses', 24: 'shorter', 25: 'from', 26: 'appearance', 27: 'symptoms', 28: 'while', 29: '3', 30: 'this', 31: 'that', 32: 'can', 33: 'in', 34: 'major', 35: 'driver', 36: 'number', 37: '2', 38: 'speed', 39: 'an', 40: 'important', 41: 'point', 42: 'difference', 43: 'two', 44: 'has', 45: 'median', 46: 'incubation', 47: 'period', 48: 'infection', 49: 'successive', 50: 'cases', 51: 'estimated', 52: '6', 53: 'means', 54: 'spread', 55: 'faster', 56: 'further', 57: 'first', 58: 'illness', 59: 'or', 60: 'potentially', 61: 'pre', 62: 'symptomatic', 63: '–transmission', 64: 'before', 65: 'contrast', 66: 'we', 67: 'learning', 68: 'there', 69: 'people', 70: 'who', 71: 'shed', 72: '24', 73: '48', 74: 'hours', 75: 'prior', 76: 'symptom', 77: 'onset', 78: 'at', 79: 'present', 80: 'does', 81: 'not', 82: 'appear', 83: 'reproductive', 84: 'secondary', 85: 'infections', 86: 'generated', 87: 'one', 88: 'infected', 89: 'individual', 90: 'understood', 91: 'higher', 92: 'however', 93: 'estimates', 94: 'both', 95: 'very', 96: 'context', 97: 'specific', 98: 'making', 99: 'direct', 100: 'comparisons', 101: 'more', 102: 'difficult'}\n"
          ]
        }
      ]
    },
    {
      "cell_type": "code",
      "source": [
        "#generate traing data || creating context and target\n",
        "\n",
        "vocab_size = len(word_to_index) + 1\n",
        "emb_size = 100\n",
        "context_size = 2;\n",
        "contexts=[]\n",
        "targets = []\n",
        "for sequence in sequences:\n",
        "  for i in range(context_size , len(sequence)-context_size):\n",
        "    context = [sequence[i-2],sequence[i-1],sequence[i+1],sequence[i+2]]\n",
        "    target = sequence[i]\n",
        "    contexts.append(context)\n",
        "    targets.append(target)\n",
        "\n",
        "print(targets,\"\\n\")\n",
        "print(contexts)"
      ],
      "metadata": {
        "colab": {
          "base_uri": "https://localhost:8080/"
        },
        "id": "bbxVBknp_Jbw",
        "outputId": "5142ffe2-69da-493a-ba84-13ffdce90497"
      },
      "execution_count": 35,
      "outputs": [
        {
          "output_type": "stream",
          "name": "stdout",
          "text": [
            "[2, 8, 9, 39, 40, 41, 2, 42, 13, 1, 11, 24, 45, 46, 47, 1, 14, 25, 48, 10, 26, 2, 27, 12, 11, 24, 15, 16, 1, 14, 13, 49, 50, 17, 4, 16, 7, 4, 5, 6, 9, 51, 10, 18, 19, 52, 20, 28, 7, 3, 6, 1, 15, 16, 9, 31, 3, 32, 54, 55, 17, 33, 1, 57, 29, 19, 20, 2, 58, 59, 60, 61, 62, 8, 63, 2, 1, 6, 64, 1, 26, 2, 27, 21, 9, 11, 34, 35, 2, 8, 28, 66, 22, 67, 31, 68, 22, 69, 70, 32, 71, 4, 5, 6, 72, 73, 74, 75, 10, 76, 77, 78, 79, 30, 80, 81, 82, 10, 18, 11, 34, 35, 36, 21, 1, 36, 2, 84, 85, 86, 25, 87, 88, 89, 21, 9, 90, 10, 18, 13, 37, 4, 5, 6, 91, 17, 7, 94, 4, 5, 12, 3, 23, 22, 95, 96, 12, 14, 97, 98, 99, 100] \n",
            "\n",
            "[[1, 38, 8, 9], [38, 2, 9, 39], [2, 8, 39, 40], [8, 9, 40, 41], [9, 39, 41, 2], [39, 40, 2, 42], [40, 41, 42, 13], [41, 2, 13, 1], [2, 42, 1, 43], [42, 13, 43, 23], [3, 44, 24, 45], [44, 11, 45, 46], [11, 24, 46, 47], [24, 45, 47, 1], [45, 46, 1, 14], [46, 47, 14, 25], [47, 1, 25, 48], [1, 14, 48, 10], [14, 25, 10, 26], [25, 48, 26, 2], [48, 10, 2, 27], [10, 26, 27, 12], [26, 2, 12, 11], [2, 27, 11, 24], [27, 12, 24, 15], [12, 11, 15, 16], [11, 24, 16, 1], [24, 15, 1, 14], [15, 16, 14, 13], [16, 1, 13, 49], [1, 14, 49, 50], [14, 13, 50, 17], [13, 49, 17, 4], [49, 50, 4, 5], [50, 17, 5, 6], [1, 15, 7, 4], [15, 16, 4, 5], [16, 7, 5, 6], [7, 4, 6, 9], [4, 5, 9, 51], [5, 6, 51, 10], [6, 9, 10, 18], [9, 51, 18, 19], [51, 10, 19, 52], [10, 18, 52, 20], [18, 19, 20, 28], [19, 52, 28, 7], [52, 20, 7, 3], [20, 28, 3, 6], [28, 7, 6, 1], [7, 3, 1, 15], [3, 6, 15, 16], [6, 1, 16, 9], [1, 15, 9, 29], [15, 16, 29, 20], [30, 53, 3, 32], [53, 31, 32, 54], [31, 3, 54, 55], [3, 32, 55, 17], [32, 54, 17, 4], [54, 55, 4, 5], [56, 8, 1, 57], [8, 33, 57, 29], [33, 1, 29, 19], [1, 57, 19, 20], [57, 29, 20, 2], [29, 19, 2, 58], [19, 20, 58, 59], [20, 2, 59, 60], [2, 58, 60, 61], [58, 59, 61, 62], [59, 60, 62, 8], [60, 61, 8, 63], [61, 62, 63, 2], [62, 8, 2, 1], [8, 63, 1, 6], [63, 2, 6, 64], [2, 1, 64, 1], [1, 6, 1, 26], [6, 64, 26, 2], [64, 1, 2, 27], [1, 26, 27, 21], [26, 2, 21, 9], [2, 27, 9, 11], [27, 21, 11, 34], [21, 9, 34, 35], [9, 11, 35, 2], [11, 34, 2, 8], [34, 35, 8, 7], [35, 2, 7, 3], [33, 65, 66, 22], [65, 28, 22, 67], [28, 66, 67, 31], [66, 22, 31, 68], [22, 67, 68, 22], [67, 31, 22, 69], [31, 68, 69, 70], [68, 22, 70, 32], [22, 69, 32, 71], [69, 70, 71, 4], [70, 32, 4, 5], [32, 71, 5, 6], [71, 4, 6, 72], [4, 5, 72, 73], [5, 6, 73, 74], [6, 72, 74, 75], [72, 73, 75, 10], [73, 74, 10, 76], [74, 75, 76, 77], [75, 10, 77, 78], [10, 76, 78, 79], [76, 77, 79, 30], [77, 78, 30, 80], [78, 79, 80, 81], [79, 30, 81, 82], [30, 80, 82, 10], [80, 81, 10, 18], [81, 82, 18, 11], [82, 10, 11, 34], [10, 18, 34, 35], [18, 11, 35, 2], [11, 34, 2, 8], [1, 83, 21, 1], [83, 36, 1, 36], [36, 21, 36, 2], [21, 1, 2, 84], [1, 36, 84, 85], [36, 2, 85, 86], [2, 84, 86, 25], [84, 85, 25, 87], [85, 86, 87, 88], [86, 25, 88, 89], [25, 87, 89, 21], [87, 88, 21, 9], [88, 89, 9, 90], [89, 21, 90, 10], [21, 9, 10, 18], [9, 90, 18, 13], [90, 10, 13, 37], [10, 18, 37, 12], [18, 13, 12, 37], [19, 7, 5, 6], [7, 4, 6, 91], [4, 5, 91, 17], [5, 6, 17, 7], [6, 91, 7, 3], [92, 93, 94, 4], [93, 7, 4, 5], [7, 94, 5, 12], [94, 4, 12, 3], [4, 5, 3, 23], [5, 12, 23, 22], [12, 3, 22, 95], [3, 23, 95, 96], [23, 22, 96, 12], [22, 95, 12, 14], [95, 96, 14, 97], [96, 12, 97, 98], [12, 14, 98, 99], [14, 97, 99, 100], [97, 98, 100, 101], [98, 99, 101, 102]]\n"
          ]
        }
      ]
    },
    {
      "cell_type": "code",
      "source": [
        "#printing features with target\n",
        "for i in range(5):\n",
        "  word = []\n",
        "  target = index_to_word.get(targets[i])\n",
        "  for j in contexts[i]:\n",
        "    word.append(index_to_word.get(j))\n",
        "  print(word, \"=>\" , target)"
      ],
      "metadata": {
        "colab": {
          "base_uri": "https://localhost:8080/"
        },
        "id": "GWqVrnTC_WPO",
        "outputId": "d9958df6-567b-4abe-e3a2-ba0ecd78192a"
      },
      "execution_count": 36,
      "outputs": [
        {
          "output_type": "stream",
          "name": "stdout",
          "text": [
            "['the', 'speed', 'transmission', 'is'] => of\n",
            "['speed', 'of', 'is', 'an'] => transmission\n",
            "['of', 'transmission', 'an', 'important'] => is\n",
            "['transmission', 'is', 'important', 'point'] => an\n",
            "['is', 'an', 'point', 'of'] => important\n"
          ]
        }
      ]
    },
    {
      "cell_type": "code",
      "source": [
        "#creating training and testing data\n",
        "x = np.array(contexts)\n",
        "y = np.array(targets)\n",
        "print(\"shape of x = \",x.shape)\n",
        "print(\"shape of y = \",y.shape)"
      ],
      "metadata": {
        "colab": {
          "base_uri": "https://localhost:8080/"
        },
        "id": "Q_dQmLZtA-cQ",
        "outputId": "8c13b303-e53a-4f4e-fba1-fc6e44dcaacb"
      },
      "execution_count": 37,
      "outputs": [
        {
          "output_type": "stream",
          "name": "stdout",
          "text": [
            "shape of x =  (162, 4)\n",
            "shape of y =  (162,)\n"
          ]
        }
      ]
    },
    {
      "cell_type": "code",
      "source": [
        "#defining the model\n",
        "\n",
        "model=Sequential([\n",
        "    Embedding(input_dim=vocab_size,output_dim=emb_size,input_length=context_size*2),\n",
        "    Lambda(lambda x:tf.reduce_mean(x,axis=1)),\n",
        "    Dense(256,activation='relu'),\n",
        "    Dense(512,activation='relu'),\n",
        "    Dense(vocab_size,activation='softmax')\n",
        "])"
      ],
      "metadata": {
        "id": "SaRQMUu1BSt2"
      },
      "execution_count": 43,
      "outputs": []
    },
    {
      "cell_type": "code",
      "source": [
        "model.compile(optimizer='adam',loss='sparse_categorical_crossentropy',metrics=['accuracy'])\n"
      ],
      "metadata": {
        "id": "l1Y6t2QTCGYH"
      },
      "execution_count": 44,
      "outputs": []
    },
    {
      "cell_type": "code",
      "source": [
        "history=model.fit(x,y,epochs=20)\n"
      ],
      "metadata": {
        "colab": {
          "base_uri": "https://localhost:8080/"
        },
        "id": "aQBq7SCdCmMU",
        "outputId": "e817ed25-a8ae-4c45-a209-cfab2c07aba9"
      },
      "execution_count": 45,
      "outputs": [
        {
          "output_type": "stream",
          "name": "stdout",
          "text": [
            "Epoch 1/20\n",
            "\u001b[1m6/6\u001b[0m \u001b[32m━━━━━━━━━━━━━━━━━━━━\u001b[0m\u001b[37m\u001b[0m \u001b[1m2s\u001b[0m 14ms/step - accuracy: 0.0106 - loss: 4.6345\n",
            "Epoch 2/20\n",
            "\u001b[1m6/6\u001b[0m \u001b[32m━━━━━━━━━━━━━━━━━━━━\u001b[0m\u001b[37m\u001b[0m \u001b[1m0s\u001b[0m 9ms/step - accuracy: 0.0616 - loss: 4.6100 \n",
            "Epoch 3/20\n",
            "\u001b[1m6/6\u001b[0m \u001b[32m━━━━━━━━━━━━━━━━━━━━\u001b[0m\u001b[37m\u001b[0m \u001b[1m0s\u001b[0m 10ms/step - accuracy: 0.0645 - loss: 4.5776\n",
            "Epoch 4/20\n",
            "\u001b[1m6/6\u001b[0m \u001b[32m━━━━━━━━━━━━━━━━━━━━\u001b[0m\u001b[37m\u001b[0m \u001b[1m0s\u001b[0m 6ms/step - accuracy: 0.0428 - loss: 4.5251 \n",
            "Epoch 5/20\n",
            "\u001b[1m6/6\u001b[0m \u001b[32m━━━━━━━━━━━━━━━━━━━━\u001b[0m\u001b[37m\u001b[0m \u001b[1m0s\u001b[0m 5ms/step - accuracy: 0.0436 - loss: 4.4267 \n",
            "Epoch 6/20\n",
            "\u001b[1m6/6\u001b[0m \u001b[32m━━━━━━━━━━━━━━━━━━━━\u001b[0m\u001b[37m\u001b[0m \u001b[1m0s\u001b[0m 5ms/step - accuracy: 0.0555 - loss: 4.2357 \n",
            "Epoch 7/20\n",
            "\u001b[1m6/6\u001b[0m \u001b[32m━━━━━━━━━━━━━━━━━━━━\u001b[0m\u001b[37m\u001b[0m \u001b[1m0s\u001b[0m 6ms/step - accuracy: 0.0559 - loss: 4.0908 \n",
            "Epoch 8/20\n",
            "\u001b[1m6/6\u001b[0m \u001b[32m━━━━━━━━━━━━━━━━━━━━\u001b[0m\u001b[37m\u001b[0m \u001b[1m0s\u001b[0m 5ms/step - accuracy: 0.0802 - loss: 3.9327 \n",
            "Epoch 9/20\n",
            "\u001b[1m6/6\u001b[0m \u001b[32m━━━━━━━━━━━━━━━━━━━━\u001b[0m\u001b[37m\u001b[0m \u001b[1m0s\u001b[0m 7ms/step - accuracy: 0.1343 - loss: 3.8612 \n",
            "Epoch 10/20\n",
            "\u001b[1m6/6\u001b[0m \u001b[32m━━━━━━━━━━━━━━━━━━━━\u001b[0m\u001b[37m\u001b[0m \u001b[1m0s\u001b[0m 6ms/step - accuracy: 0.1447 - loss: 3.7013  \n",
            "Epoch 11/20\n",
            "\u001b[1m6/6\u001b[0m \u001b[32m━━━━━━━━━━━━━━━━━━━━\u001b[0m\u001b[37m\u001b[0m \u001b[1m0s\u001b[0m 5ms/step - accuracy: 0.1281 - loss: 3.6544 \n",
            "Epoch 12/20\n",
            "\u001b[1m6/6\u001b[0m \u001b[32m━━━━━━━━━━━━━━━━━━━━\u001b[0m\u001b[37m\u001b[0m \u001b[1m0s\u001b[0m 5ms/step - accuracy: 0.1529 - loss: 3.4398 \n",
            "Epoch 13/20\n",
            "\u001b[1m6/6\u001b[0m \u001b[32m━━━━━━━━━━━━━━━━━━━━\u001b[0m\u001b[37m\u001b[0m \u001b[1m0s\u001b[0m 5ms/step - accuracy: 0.1393 - loss: 3.4416 \n",
            "Epoch 14/20\n",
            "\u001b[1m6/6\u001b[0m \u001b[32m━━━━━━━━━━━━━━━━━━━━\u001b[0m\u001b[37m\u001b[0m \u001b[1m0s\u001b[0m 7ms/step - accuracy: 0.1772 - loss: 3.2648 \n",
            "Epoch 15/20\n",
            "\u001b[1m6/6\u001b[0m \u001b[32m━━━━━━━━━━━━━━━━━━━━\u001b[0m\u001b[37m\u001b[0m \u001b[1m0s\u001b[0m 6ms/step - accuracy: 0.2321 - loss: 3.0582  \n",
            "Epoch 16/20\n",
            "\u001b[1m6/6\u001b[0m \u001b[32m━━━━━━━━━━━━━━━━━━━━\u001b[0m\u001b[37m\u001b[0m \u001b[1m0s\u001b[0m 5ms/step - accuracy: 0.2740 - loss: 2.8778 \n",
            "Epoch 17/20\n",
            "\u001b[1m6/6\u001b[0m \u001b[32m━━━━━━━━━━━━━━━━━━━━\u001b[0m\u001b[37m\u001b[0m \u001b[1m0s\u001b[0m 5ms/step - accuracy: 0.2946 - loss: 2.7926 \n",
            "Epoch 18/20\n",
            "\u001b[1m6/6\u001b[0m \u001b[32m━━━━━━━━━━━━━━━━━━━━\u001b[0m\u001b[37m\u001b[0m \u001b[1m0s\u001b[0m 5ms/step - accuracy: 0.3347 - loss: 2.5558 \n",
            "Epoch 19/20\n",
            "\u001b[1m6/6\u001b[0m \u001b[32m━━━━━━━━━━━━━━━━━━━━\u001b[0m\u001b[37m\u001b[0m \u001b[1m0s\u001b[0m 5ms/step - accuracy: 0.4011 - loss: 2.4081 \n",
            "Epoch 20/20\n",
            "\u001b[1m6/6\u001b[0m \u001b[32m━━━━━━━━━━━━━━━━━━━━\u001b[0m\u001b[37m\u001b[0m \u001b[1m0s\u001b[0m 5ms/step - accuracy: 0.4063 - loss: 2.2014 \n"
          ]
        }
      ]
    },
    {
      "cell_type": "code",
      "source": [
        "#output\n",
        "\n",
        "test_word = [index_to_word[index] for index in contexts[0]]\n",
        "input_data = np.expand_dims(contexts[0],axis =0)\n",
        "print(input_data)\n",
        "\n",
        "pred = model.predict(input_data)\n",
        "predicted_index = np.argmax(pred[0])\n",
        "\n",
        "print(\"Context words == \" , test_word)\n",
        "print(\"target word == \" , index_to_word[predicted_index])"
      ],
      "metadata": {
        "colab": {
          "base_uri": "https://localhost:8080/"
        },
        "id": "M5J30FUgCwH5",
        "outputId": "6a422090-a89a-44ae-ea2f-41a947416126"
      },
      "execution_count": 47,
      "outputs": [
        {
          "output_type": "stream",
          "name": "stdout",
          "text": [
            "[[ 1 38  8  9]]\n",
            "\u001b[1m1/1\u001b[0m \u001b[32m━━━━━━━━━━━━━━━━━━━━\u001b[0m\u001b[37m\u001b[0m \u001b[1m0s\u001b[0m 21ms/step\n",
            "Context words ==  ['the', 'speed', 'transmission', 'is']\n",
            "target word ==  of\n"
          ]
        }
      ]
    },
    {
      "cell_type": "code",
      "source": [],
      "metadata": {
        "id": "eIUgpipvFWJ9"
      },
      "execution_count": null,
      "outputs": []
    }
  ]
}